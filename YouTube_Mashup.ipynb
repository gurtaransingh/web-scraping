{
  "nbformat": 4,
  "nbformat_minor": 0,
  "metadata": {
    "colab": {
      "provenance": [],
      "authorship_tag": "ABX9TyP+0wk3WPmHqs4wkaus9NqS",
      "include_colab_link": true
    },
    "kernelspec": {
      "name": "python3",
      "display_name": "Python 3"
    },
    "language_info": {
      "name": "python"
    }
  },
  "cells": [
    {
      "cell_type": "markdown",
      "metadata": {
        "id": "view-in-github",
        "colab_type": "text"
      },
      "source": [
        "<a href=\"https://colab.research.google.com/github/gurtaransingh/web-scraping/blob/main/YouTube_Mashup.ipynb\" target=\"_parent\"><img src=\"https://colab.research.google.com/assets/colab-badge.svg\" alt=\"Open In Colab\"/></a>"
      ]
    },
    {
      "cell_type": "code",
      "execution_count": 1,
      "metadata": {
        "colab": {
          "base_uri": "https://localhost:8080/"
        },
        "id": "a1hrd8Cg7FZ2",
        "outputId": "514768cd-007f-429d-d06b-cdbf14a8d6cb"
      },
      "outputs": [
        {
          "output_type": "stream",
          "name": "stdout",
          "text": [
            "Looking in indexes: https://pypi.org/simple, https://us-python.pkg.dev/colab-wheels/public/simple/\n",
            "Collecting pytube\n",
            "  Downloading pytube-12.1.2-py3-none-any.whl (57 kB)\n",
            "\u001b[2K     \u001b[90m━━━━━━━━━━━━━━━━━━━━━━━━━━━━━━━━━━━━━━━━\u001b[0m \u001b[32m57.0/57.0 KB\u001b[0m \u001b[31m1.5 MB/s\u001b[0m eta \u001b[36m0:00:00\u001b[0m\n",
            "\u001b[?25hInstalling collected packages: pytube\n",
            "Successfully installed pytube-12.1.2\n",
            "Looking in indexes: https://pypi.org/simple, https://us-python.pkg.dev/colab-wheels/public/simple/\n",
            "Collecting pydub\n",
            "  Downloading pydub-0.25.1-py2.py3-none-any.whl (32 kB)\n",
            "Installing collected packages: pydub\n",
            "Successfully installed pydub-0.25.1\n",
            "Singer Name : sharry mann\n",
            "Number of Youtube Videos whose audio is to be extracted : 15\n",
            "Duration(in sec) for which audio is to cut : 20\n",
            "\n",
            "\t\t\t\tAudio-0 Downloaded successfully✅\n",
            "\n",
            "\t\t\t\tAudio-1 Downloaded successfully✅\n",
            "\n",
            "\t\t\t\tAudio-2 Downloaded successfully✅\n",
            "\n",
            "\t\t\t\tAudio-3 Downloaded successfully✅\n",
            "\n",
            "\t\t\t\tAudio-4 Downloaded successfully✅\n",
            "\n",
            "\t\t\t\tAudio-5 Downloaded successfully✅\n",
            "\n",
            "\t\t\t\tAudio-6 Downloaded successfully✅\n",
            "\n",
            "\t\t\t\tAudio-7 Downloaded successfully✅\n",
            "\n",
            "\t\t\t\tAudio-8 Downloaded successfully✅\n",
            "\n",
            "\t\t\t\tAudio-9 Downloaded successfully✅\n",
            "\n",
            "\t\t\t\tAudio-10 Downloaded successfully✅\n",
            "\n",
            "\t\t\t\tAudio-11 Downloaded successfully✅\n",
            "\n",
            "\t\t\t\tAudio-12 Downloaded successfully✅\n",
            "\n",
            "\t\t\t\tAudio-13 Downloaded successfully✅\n",
            "\n",
            "\t\t\t\tAudio-14 Downloaded successfully✅\n",
            "\n",
            "\t\t\t\t\tMashup Created ♫♫\n"
          ]
        }
      ],
      "source": [
        "!pip install pytube \n",
        "!pip install pydub\n",
        "\n",
        "import urllib.request\n",
        "import re\n",
        "import random\n",
        "from pytube import YouTube\n",
        "from pydub import AudioSegment\n",
        "import sys\n",
        "import os\n",
        "\n",
        "def main():\n",
        "    X=input(\"Singer Name : \")\n",
        "    X = X.replace(\" \", \"+\")+\"songs\"\n",
        "    N=int(input(\"Number of Youtube Videos whose audio is to be extracted : \"))\n",
        "    Y=int(input(\"Duration(in sec) for which audio is to cut : \"))\n",
        "\n",
        "    html=urllib.request.urlopen(\"https://www.youtube.com/results?search_query=\"+X)\n",
        "    video_ids=re.findall(r\"watch\\?v=(\\S{11})\" , html.read().decode())\n",
        "\n",
        "    l=len(video_ids)\n",
        "    url = []\n",
        "    for i in range(N):\n",
        "        url.append(\"https://www.youtube.com/watch?v=\" + video_ids[random.randint(0,l-1)])\n",
        "\n",
        "    final_aud = AudioSegment.empty()\n",
        "    for i in range(N):   \n",
        "        audio = YouTube(url[i]).streams.filter(only_audio=True).first()\n",
        "        audio.download(filename='Audio-'+str(i)+'.mp3')\n",
        "        print(\"\\n\\t\\t\\t\\tAudio-\"+str(i)+\" Downloaded successfully✅\")\n",
        "        aud_file = str(os.getcwd()) + \"/Audio-\"+str(i)+\".mp3\"\n",
        "        file1 = AudioSegment.from_file(aud_file)\n",
        "        extracted_file = file1[:Y*1000]\n",
        "        final_aud +=extracted_file\n",
        "\n",
        "        final_aud.export(\"mashup.mp3\", format=\"mp3\")\n",
        "\n",
        "    print(\"\\n\\t\\t\\t\\t\\tMashup Created ♫♫\")\n",
        "\n",
        "main()"
      ]
    }
  ]
}